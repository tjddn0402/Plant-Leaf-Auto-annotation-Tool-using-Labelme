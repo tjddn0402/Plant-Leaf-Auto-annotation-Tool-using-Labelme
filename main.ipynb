{
 "cells": [
  {
   "cell_type": "code",
   "execution_count": null,
   "metadata": {},
   "outputs": [],
   "source": [
    "import sys, os\n",
    "import glob\n",
    "import json\n",
    "import argparse\n",
    "import numpy as np\n",
    "import cv2\n",
    "from pathlib import Path\n",
    "\n",
    "from masking import masking\n",
    "import morphological as mp\n",
    "from mask2polygon import mask2json"
   ]
  },
  {
   "cell_type": "code",
   "execution_count": null,
   "metadata": {},
   "outputs": [],
   "source": [
    "\"\"\"\n",
    "bash 에서 다음과 같이 실행\n",
    "\n",
    "python main.py BIBICHU\n",
    "python main.py SANMANEUL\n",
    "python main.py EUNBANGUL\n",
    "\"\"\"\n",
    "# NAME = sys.argv[1]\n",
    "# NAME = \"SANMANEUL\"\n",
    "NAME = \"BIBICHU\"\n",
    "# NAME = \"EUNBANGUL\"\n",
    "\n",
    "PATH = './'+NAME"
   ]
  },
  {
   "cell_type": "code",
   "execution_count": null,
   "metadata": {},
   "outputs": [],
   "source": [
    "def apply_morph(morph_sequence, mask_path, verbose = False):\n",
    "    mask_files = os.listdir(mask_path)\n",
    "    for mask_file in mask_files:\n",
    "        mask = cv2.imread(mask_path+'/'+mask_file, 0)\n",
    "        mask = morph_sequence.operate(mask)\n",
    "        cv2.imwrite(mask_path+'/'+mask_file, mask)\n",
    "        if verbose:\n",
    "            print(\"Filtered mask for \" + mask_file + \" is generated.\")"
   ]
  },
  {
   "cell_type": "code",
   "execution_count": null,
   "metadata": {},
   "outputs": [],
   "source": [
    "def gen_labels(verbose = False):\n",
    "    mask_files = os.listdir(PATH+\"_mask\")\n",
    "    for file_name in mask_files:\n",
    "        mask = cv2.imread(PATH+'_mask/'+file_name, 0)\n",
    "        JSON = mask2json(mask, PATH, file_name, PATH)\n",
    "        with open(PATH + Path(file_name).stem + \".json\", 'w') as f:\n",
    "            json.dump(JSON, f, indent=4)\n",
    "            if verbose:\n",
    "                print(\"Label for \" + Path(file_name).stem + \"is created.\")"
   ]
  },
  {
   "cell_type": "code",
   "execution_count": null,
   "metadata": {},
   "outputs": [],
   "source": [
    "# masking -> morph -> mask2polygon -> .json(원래 이미지 있는 폴더에 저장)\n",
    "masking(PATH,plot_hue=False,plot_intensity=False, verbose=True)\n",
    "\n",
    "apply_morph(defined_morphologic, PATH+\"_mask\", verbose=True)\n",
    "gen_labels(verbose=True)"
   ]
  },
  {
   "cell_type": "code",
   "execution_count": null,
   "metadata": {},
   "outputs": [],
   "source": [
    "defined_morphologic = mp.MorphSequence({'erosion_1':mp.Erosion(),\n",
    "                                        'dilation_1':mp.Dilation()\n",
    "                                        })\n",
    "defined_morphologic.summary()"
   ]
  },
  {
   "cell_type": "code",
   "execution_count": null,
   "metadata": {},
   "outputs": [],
   "source": [
    "apply_morph(defined_morphologic, PATH+\"_mask\", verbose=True)\n"
   ]
  },
  {
   "cell_type": "code",
   "execution_count": null,
   "metadata": {},
   "outputs": [],
   "source": [
    "gen_labels(verbose=True)"
   ]
  }
 ],
 "metadata": {
  "language_info": {
   "name": "python"
  },
  "orig_nbformat": 4
 },
 "nbformat": 4,
 "nbformat_minor": 2
}
